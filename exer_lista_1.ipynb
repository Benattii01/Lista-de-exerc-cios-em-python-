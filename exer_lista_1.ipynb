{
  "nbformat": 4,
  "nbformat_minor": 0,
  "metadata": {
    "colab": {
      "provenance": [],
      "authorship_tag": "ABX9TyNdbZ9DFGaIb7pGpWeZVwdH",
      "include_colab_link": true
    },
    "kernelspec": {
      "name": "python3",
      "display_name": "Python 3"
    },
    "language_info": {
      "name": "python"
    }
  },
  "cells": [
    {
      "cell_type": "markdown",
      "metadata": {
        "id": "view-in-github",
        "colab_type": "text"
      },
      "source": [
        "<a href=\"https://colab.research.google.com/github/Benattii01/Lista-de-exerc-cios-em-python-/blob/main/exer_lista_1.ipynb\" target=\"_parent\"><img src=\"https://colab.research.google.com/assets/colab-badge.svg\" alt=\"Open In Colab\"/></a>"
      ]
    },
    {
      "cell_type": "markdown",
      "source": [
        "**Exercícios com Inteiros **"
      ],
      "metadata": {
        "id": "HZ4YfWIkg01i"
      }
    },
    {
      "cell_type": "markdown",
      "source": [
        "1.  Dada uma seqüência de números inteiros não-nulos, seguida por 0, imprimir seus quadrados."
      ],
      "metadata": {
        "id": "3dV1TRVMhF4w"
      }
    },
    {
      "cell_type": "code",
      "source": [
        "def main():\n",
        "  n = int(input('digite a quantidade de numeros da sequência: '))\n",
        "  for i in range(n):\n",
        "    x = int(input('digite um valor: '))\n",
        "    q = x**2\n",
        "    print(q)\n",
        "main()"
      ],
      "metadata": {
        "id": "VpH1hktThSlp"
      },
      "execution_count": null,
      "outputs": []
    },
    {
      "cell_type": "markdown",
      "source": [
        "2.  Dado um número inteiro positivo n, calcular a soma dos n primeiros números inteiros positivos.\n"
      ],
      "metadata": {
        "id": "Uq3O6diujm4M"
      }
    },
    {
      "cell_type": "code",
      "source": [
        "def main():\n",
        "  n = int(input('digite a quantidade de numeros que serão somados: '))\n",
        "  soma = 0\n",
        "  for i in range(n):\n",
        "    x = int(input('digite um valor: '))\n",
        "    soma = soma + x\n",
        "  print('o resultado da soma dos numeros digitados é: ', soma)\n",
        "main()"
      ],
      "metadata": {
        "id": "nYcHGhkKjtoG"
      },
      "execution_count": null,
      "outputs": []
    },
    {
      "cell_type": "markdown",
      "source": [
        "3.  Dado um número inteiro positivo n, imprimir os n primeiros naturais ímpares.\n",
        "\n"
      ],
      "metadata": {
        "id": "kaopFEBXlKwW"
      }
    },
    {
      "cell_type": "code",
      "source": [
        "def main():\n",
        "  n = int(input('digite a quantidade de numeros da sequência: '))\n",
        "  for i in range(n):\n",
        "    x = int(input('digite um valor: '))\n",
        "    if (x % 2 != 0):\n",
        "      print(str(x)+ ' é impar')\n",
        "main()"
      ],
      "metadata": {
        "id": "eWwZXDoLlf82",
        "outputId": "27cfeb0a-319f-4590-c72f-7e33125e82b0",
        "colab": {
          "base_uri": "https://localhost:8080/"
        }
      },
      "execution_count": null,
      "outputs": [
        {
          "name": "stdout",
          "output_type": "stream",
          "text": [
            "digite a quantidade de numeros da sequência: 3\n",
            "digite um valor: 1\n",
            "1 é impar\n",
            "digite um valor: 2\n",
            "digite um valor: 2\n"
          ]
        }
      ]
    },
    {
      "cell_type": "markdown",
      "source": [
        "4.  Dados um inteiro x e um inteiro não-negativo n, calcular x ** n.\n"
      ],
      "metadata": {
        "id": "gIDJI-erqO79"
      }
    },
    {
      "cell_type": "code",
      "source": [
        "def main():\n",
        "  n = int(input('digite a quantidade de numeros que serão calculados: '))\n",
        "  for i in range(n):\n",
        "    x = int(input('digite o valor que será elevado a n: '))\n",
        "    z = int(input('digite o expoente: '))\n",
        "    r = x ** z\n",
        "    print('o resultado é: ' ,r)\n",
        "main()\n"
      ],
      "metadata": {
        "id": "3ULMPpa5qhzw"
      },
      "execution_count": null,
      "outputs": []
    },
    {
      "cell_type": "markdown",
      "source": [
        "5.  Uma loja de discos anota diariamente durante o mês de março a quantidade de discos vendidos. Determinar em que dia desse mês ocorreu a maior venda e qual foi a quantidade de discos vendida nesse dia. (sem usar listas)\n"
      ],
      "metadata": {
        "id": "8SOFLFbnsnAb"
      }
    },
    {
      "cell_type": "code",
      "source": [
        "def main():\n",
        "  n = int(input('digite a quantidade de dias: '))\n",
        "  maior = 0\n",
        "  dia = 0\n",
        "  for i in range(n):\n",
        "    d = int(input('digite a dia: '))\n",
        "    disc = int(input('digite a quantidade de discos vendidos: '))\n",
        "\n",
        "    if (maior < disc):\n",
        "      maior = disc\n",
        "      dia = d\n",
        "  print('o dia com a maior quantidade de discos vendidos foi:  ',dia)\n",
        "  print('e a quantidade foi de: ',maior)\n",
        "\n",
        "main()"
      ],
      "metadata": {
        "id": "SHVTUKnOs5un"
      },
      "execution_count": null,
      "outputs": []
    },
    {
      "cell_type": "markdown",
      "source": [
        "5. Uma loja de discos anota diariamente durante o mês de março a quantidade de discos vendidos. Determinar em que dia desse mês ocorreu a maior venda e qual foi a quantidade de discos vendida nesse dia. (usando listas)"
      ],
      "metadata": {
        "id": "nAo4u8HMPvtV"
      }
    },
    {
      "cell_type": "code",
      "source": [
        "def main():\n",
        "  n = int(input('digite a quantidade de dias: '))\n",
        "# essa primeira parte é onde serão armazenados os valores recebidos\n",
        "  dia = []\n",
        "  quant = []\n",
        "  qmax = 0\n",
        "  d = 0\n",
        "\n",
        "# essa segunda parte é a coleta e armazenamento dos dados\n",
        "  for i in range(n):\n",
        "    y = int(input('digite um dia: '))\n",
        "    x = int(input('digite a quantidade de discos vendidos nesse dia: '))\n",
        "\n",
        "    dia.append(y)\n",
        "    quant.append(x) #formação do vetor na lista\n",
        "\n",
        "# essa terceira parte o código lê os valores armazenados e encontra o maior\n",
        "  for i in range(n):\n",
        "    x = quant[i]\n",
        "    y = dia[i]\n",
        "    if (qmax < x):\n",
        "      qmax = x\n",
        "      d = y\n",
        "\n",
        "  print('o dia em que mais vendeu foi: ',d)\n",
        "  print('e a quantidade vendida nesse dia foi: ',qmax)\n",
        "\n",
        "main()\n"
      ],
      "metadata": {
        "id": "ARduRMecQIKh"
      },
      "execution_count": null,
      "outputs": []
    },
    {
      "cell_type": "markdown",
      "source": [
        "6.  Dados o número n de alunos de uma turma de Introdução aos Autômatos a Pilha (MAC 414) e suas notas da primeira prova, determinar a maior e a menor nota obtidas por essa turma (Nota máxima = 100 e nota mínima = 0).\n"
      ],
      "metadata": {
        "id": "J0HFm7KftRI6"
      }
    },
    {
      "cell_type": "code",
      "source": [
        "def main():\n",
        "  n = int(input('digite o numero de notas: '))\n",
        "  nota = 0\n",
        "  nota1 = 100\n",
        "  for i in range(n):\n",
        "    x = int(input('digite um valor: '))\n",
        "    if (x > nota):\n",
        "      nota = x\n",
        "    if (x < nota1):\n",
        "      nota1 = x\n",
        "  print('a maior nota é: ', nota)\n",
        "  print('a menor nota é: ', nota1)\n",
        "main()\n"
      ],
      "metadata": {
        "id": "JjDLo2P8RIFd"
      },
      "execution_count": null,
      "outputs": []
    },
    {
      "cell_type": "markdown",
      "source": [
        "5. Uma loja de discos anota diariamente durante o mês de março a quantidade de discos vendidos. Determinar em que dia desse mês ocorreu a maior venda e qual foi a quantidade de discos vendida nesse dia. (usando listas e lendo todos os dias juntos 'lista' e o mesmo para a quantidade de discos vendidos)"
      ],
      "metadata": {
        "id": "tGEzS7RrBOwr"
      }
    },
    {
      "cell_type": "code",
      "source": [
        "def main():\n",
        "  dia = list(map(int,input('digite os dias separados por espaços: ').split()))\n",
        "  disc = list(map(int,input('digite as quantidades de discos vendidos nos respectivos dias separados por espaços: ').split()))\n",
        "\n",
        "  z = 0\n",
        "  w = 0\n",
        "  n = len(dia)\n",
        "\n",
        "  for i in range(n):\n",
        "    x = dia[i]\n",
        "    y = disc[i]\n",
        "    if (w < y ):\n",
        "      z = x\n",
        "      w = y\n",
        "  print('o dia em que mais ocorreu vendas foi: ',z)\n",
        "  print('e a quantidade vendida no dia foi: ',w)\n",
        "main()"
      ],
      "metadata": {
        "id": "AM4n8AeMBfr0"
      },
      "execution_count": null,
      "outputs": []
    },
    {
      "cell_type": "markdown",
      "source": [
        "7.  Dados n e uma seqüência de n números inteiros, determinar a soma dos números pares."
      ],
      "metadata": {
        "id": "WF2wz0WzFUrN"
      }
    },
    {
      "cell_type": "code",
      "source": [
        "import matplotlib.pyplot as plt\n",
        "def main():\n",
        "  n = int(input('digite a quantidade de numeros que serão digitados: '))\n",
        "\n",
        "  soma = 0\n",
        "  x1 = []\n",
        "  y1 = []\n",
        "  for i in range(n):\n",
        "    x = int(input('digite um valor: '))\n",
        "    x1.append(x)\n",
        "    y = x%2\n",
        "    y1.append(y)\n",
        "    if (y == 0 ):\n",
        "      soma = soma + x\n",
        "  plt.plot(x1,y1); plt.title('titulo');plt.xlabel('valores digitados')\n",
        "  print('a soma dos n numeros pares da sequência é: ',soma)\n",
        "main()\n"
      ],
      "metadata": {
        "id": "Y3kUdokJFeIe",
        "colab": {
          "base_uri": "https://localhost:8080/",
          "height": 576
        },
        "outputId": "ed572362-e209-4008-ba41-e93cda936793"
      },
      "execution_count": null,
      "outputs": [
        {
          "output_type": "stream",
          "name": "stdout",
          "text": [
            "digite a quantidade de numeros que serão digitados: 4\n",
            "digite um valor: 1\n",
            "digite um valor: 2\n",
            "digite um valor: 3\n",
            "digite um valor: 4\n",
            "a soma dos n numeros pares da sequência é:  6\n"
          ]
        },
        {
          "output_type": "display_data",
          "data": {
            "text/plain": [
              "<Figure size 640x480 with 1 Axes>"
            ],
            "image/png": "[encoded data removed]"
          },
          "metadata": {}
        }
      ]
    },
    {
      "cell_type": "markdown",
      "source": [
        "# 8.Dado um inteiro não-negativo n, determinar n!"
      ],
      "metadata": {
        "id": "4-D9XkVTxUAj"
      }
    },
    {
      "cell_type": "code",
      "source": [
        "def main():\n",
        "  l1 = []\n",
        "  M = 1\n",
        "  n = int(input('digite um n inteiro não negativo: '))\n",
        "  l1.append(n)\n",
        "  m = n\n",
        "  z = n\n",
        "  while(m > 1):\n",
        "    x = z - 1\n",
        "    z = z - 1\n",
        "    m = m - 1\n",
        "    l1.append(x)\n",
        "  for i in range(n-1):\n",
        "    y = l1[i]\n",
        "    M = M * y\n",
        "  print('O fatorial de n é: ',M)\n",
        "main()"
      ],
      "metadata": {
        "colab": {
          "base_uri": "https://localhost:8080/"
        },
        "id": "joEFdrO6xcyc",
        "outputId": "4a4cc9f5-0eb0-49dc-ef49-8a91e4a95479"
      },
      "execution_count": null,
      "outputs": [
        {
          "output_type": "stream",
          "name": "stdout",
          "text": [
            "digite um n inteiro não negativo: 10\n",
            "O fatorial de n é:  3628800\n"
          ]
        }
      ]
    },
    {
      "cell_type": "markdown",
      "source": [
        "# 9.  Dados n e dois números inteiros positivos i e j diferentes de 0, imprimir em ordem crescente os n primeiros naturais que são múltiplos de i ou de j e ou de ambos.\n",
        "\n",
        "# Exemplo: Para n = 6 , i = 2 e j = 3 a saída deverá ser : 0,2,3,4,6,8."
      ],
      "metadata": {
        "id": "0uF092zs6Jd_"
      }
    },
    {
      "cell_type": "code",
      "source": [
        "def main():\n",
        "  #entradas\n",
        "  n = int(input('digite o valor de n: '))\n",
        "  ii = int(input('digite o valor de i: '))\n",
        "  j = int(input('digite o valo de j: '))\n",
        "\n",
        "  #listas e variaveis\n",
        "  zero = 0\n",
        "  listai = []\n",
        "  listaj = []\n",
        "  #listaf = [0]\n",
        "  listaiguais = []\n",
        "\n",
        "  #calculando multiplos\n",
        "  for i in range(n):\n",
        "    #mutiplos de i\n",
        "    zero = zero + 1\n",
        "    mi = zero * ii\n",
        "    listai.append(mi)\n",
        "    #multiplos de j\n",
        "    mj = zero * j\n",
        "    listaj.append(mj)\n",
        "  #print(listai)\n",
        "  #print(listaj)\n",
        "\n",
        "  #comparando valores entre as listas para achar valores iguais\n",
        "  e = n*n\n",
        "  for i in range(n):\n",
        "    x = listai[i]\n",
        "    for i in range(n):\n",
        "      y = listaj[i]\n",
        "      #print(y)\n",
        "      #print(x)\n",
        "      if (x == y):\n",
        "        listaiguais.append(x)\n",
        "  #print(listaiguais)\n",
        "\n",
        "  #somando e subtraindo as listas\n",
        "\n",
        "  listai.extend(listaj)\n",
        "\n",
        "  for elemento in listaiguais:\n",
        "    if elemento in listai:\n",
        "        listai.remove(elemento)\n",
        "  listai.extend([0])\n",
        "\n",
        "  #ordenando lista final em ordem crescente\n",
        "  listai.sort()\n",
        "  print(listai[0:n])\n",
        "main()"
      ],
      "metadata": {
        "id": "G_0m2JhxK13o",
        "colab": {
          "base_uri": "https://localhost:8080/"
        },
        "outputId": "cd4067b2-25ea-4d9c-a765-1871361ba045"
      },
      "execution_count": null,
      "outputs": [
        {
          "output_type": "stream",
          "name": "stdout",
          "text": [
            "digite o valor de n: 6\n",
            "digite o valor de i: 2\n",
            "digite o valo de j: 3\n",
            "[0, 2, 3, 4, 6, 8]\n"
          ]
        }
      ]
    },
    {
      "cell_type": "markdown",
      "source": [
        "exemplo basico do uso de funções"
      ],
      "metadata": {
        "id": "epR2DVZaK3G-"
      }
    },
    {
      "cell_type": "code",
      "source": [
        "def fun(x,y):\n",
        "  return x + y\n",
        "def mult(x,y):\n",
        "  w = []\n",
        "  if x > y:\n",
        "    return x * y\n",
        "  else:\n",
        "    return\n",
        "\n",
        "\n",
        "def main():\n",
        "    a = int(input(\"digite a:\"))\n",
        "    b = int(input(\"digite b:\"))\n",
        "    fun(a,b)\n",
        "    mult(a,b)\n",
        "    print(fun(a,b),mult(a,b))\n",
        "main()"
      ],
      "metadata": {
        "id": "AwqEpjwz6Pam",
        "colab": {
          "base_uri": "https://localhost:8080/"
        },
        "outputId": "6fb24628-638b-4899-cca4-30708222f20d"
      },
      "execution_count": null,
      "outputs": [
        {
          "output_type": "stream",
          "name": "stdout",
          "text": [
            "digite a:1\n",
            "digite b:2\n",
            "3 []\n"
          ]
        }
      ]
    }
  ]
}